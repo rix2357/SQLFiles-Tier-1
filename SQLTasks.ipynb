{
 "metadata": {
  "language_info": {
   "codemirror_mode": {
    "name": "ipython",
    "version": 3
   },
   "file_extension": ".py",
   "mimetype": "text/x-python",
   "name": "python",
   "nbconvert_exporter": "python",
   "pygments_lexer": "ipython3",
   "version": "3.9.5"
  },
  "orig_nbformat": 4,
  "kernelspec": {
   "name": "python3",
   "display_name": "Python 3.9.5 64-bit (windows store)"
  },
  "interpreter": {
   "hash": "08ac06b889d88586e79d71f60be2d3fa0d5f4198b916c099c2a61e599e65b9b2"
  }
 },
 "nbformat": 4,
 "nbformat_minor": 2,
 "cells": [
  {
   "cell_type": "code",
   "execution_count": 1,
   "metadata": {},
   "outputs": [
    {
     "output_type": "stream",
     "name": "stdout",
     "text": [
      "2.6.0\n2. Query all tasks\n(0, 'Tennis Court 1', 5, 25, 10000, 200)\n(1, 'Tennis Court 2', 5, 25, 8000, 200)\n(2, 'Badminton Court', 0, 15.5, 4000, 50)\n(3, 'Table Tennis', 0, 5, 320, 10)\n(4, 'Massage Room 1', 9.9, 80, 4000, 3000)\n(5, 'Massage Room 2', 9.9, 80, 4000, 3000)\n(6, 'Squash Court', 3.5, 17.5, 5000, 80)\n(7, 'Snooker Table', 0, 5, 450, 15)\n(8, 'Pool Table', 0, 5, 400, 15)\n"
     ]
    }
   ],
   "source": [
    "import sqlite3\n",
    "from sqlite3 import Error\n",
    "\n",
    " \n",
    "def create_connection(db_file):\n",
    "    \"\"\" create a database connection to the SQLite database\n",
    "        specified by the db_file\n",
    "    :param db_file: database file\n",
    "    :return: Connection object or None\n",
    "    \"\"\"\n",
    "    conn = None\n",
    "    try:\n",
    "        conn = sqlite3.connect(db_file)\n",
    "        print(sqlite3.version)\n",
    "    except Error as e:\n",
    "        print(e)\n",
    " \n",
    "    return conn\n",
    "\n",
    " \n",
    "def select_all_tasks(conn):\n",
    "    \"\"\"\n",
    "    Query all rows in the tasks table\n",
    "    :param conn: the Connection object\n",
    "    :return:\n",
    "    \"\"\"\n",
    "    cur = conn.cursor()\n",
    "    \n",
    "    query1 = \"\"\"\n",
    "        SELECT *\n",
    "        FROM FACILITIES\n",
    "        \"\"\"\n",
    "    cur.execute(query1)\n",
    " \n",
    "    rows = cur.fetchall()\n",
    " \n",
    "    for row in rows:\n",
    "        print(row)\n",
    "\n",
    "\n",
    "def main():\n",
    "    database = \"sqlite_db_pythonsqlite.db\"\n",
    " \n",
    "    # create a database connection\n",
    "    conn = create_connection(database)\n",
    "    with conn: \n",
    "        print(\"2. Query all tasks\")\n",
    "        select_all_tasks(conn)\n",
    " \n",
    " \n",
    "if __name__ == '__main__':\n",
    "    main()\n"
   ]
  },
  {
   "cell_type": "code",
   "execution_count": 9,
   "metadata": {
    "tags": []
   },
   "outputs": [
    {
     "output_type": "stream",
     "name": "stdout",
     "text": [
      "2.6.0\nQ10: Produce a list of facilities with a total revenue less than 1000. The output of facility name and total revenue, sorted by revenue. Remember that there's a different cost for guests and members! \n\n('Pool Table', 270)\n('Snooker Table', 240)\n('Table Tennis', 180)\n"
     ]
    }
   ],
   "source": [
    "def Q10sql(conn):\n",
    "    \"\"\"\n",
    "    Query all rows in the tasks table\n",
    "    :param conn: the Connection object\n",
    "    :return:\n",
    "    \"\"\"\n",
    "    cur = conn.cursor()\n",
    "    \n",
    "    query1 = \"\"\"\n",
    "        SELECT F.name, \n",
    "                SUM(CASE WHEN B.memid = 0 \n",
    "                THEN F.guestcost*B.slots\n",
    "                ELSE F.membercost*B.slots END) AS revenue\n",
    "        FROM BOOKINGS AS B\n",
    "        INNER JOIN FACILITIES AS F\n",
    "        ON B.facid = F.facid\n",
    "        GROUP BY F.name\n",
    "        HAVING revenue < 1000\n",
    "        ORDER BY revenue DESC\n",
    "        \"\"\"\n",
    "    cur.execute(query1)\n",
    " \n",
    "    rows = cur.fetchall()\n",
    " \n",
    "    for row in rows:\n",
    "        print(row)\n",
    "\n",
    "def Q10Conn():\n",
    "    database = \"sqlite_db_pythonsqlite.db\"\n",
    " \n",
    "    # create a database connection\n",
    "    conn = create_connection(database)\n",
    "    with conn: \n",
    "        print(\"Q10: Produce a list of facilities with a total revenue less than 1000. The output of facility name and total revenue, sorted by revenue. Remember that there's a different cost for guests and members! \\n\")\n",
    "        Q10sql(conn)\n",
    "\n",
    "Q10Conn()"
   ]
  },
  {
   "cell_type": "code",
   "execution_count": 21,
   "metadata": {},
   "outputs": [
    {
     "output_type": "stream",
     "name": "stdout",
     "text": [
      "2.6.0\nQ11: Produce a report of members and who recommended them in alphabetic surname,firstname order \n\n('Bader', 'Florence', 'Stibbons', 'Ponder')\n('Baker', 'Anne', 'Stibbons', 'Ponder')\n('Baker', 'Timothy', 'Farrell', 'Jemima')\n('Boothe', 'Tim', 'Rownam', 'Tim')\n('Butters', 'Gerald', 'Smith', 'Darren')\n('Coplin', 'Joan', 'Baker', 'Timothy')\n('Crumpet', 'Erica', 'Smith', 'Tracy')\n('Dare', 'Nancy', 'Joplette', 'Janice')\n('Farrell', 'David', None, None)\n('Farrell', 'Jemima', None, None)\n('GUEST', 'GUEST', None, None)\n('Genting', 'Matthew', 'Butters', 'Gerald')\n('Hunt', 'John', 'Purview', 'Millicent')\n('Jones', 'David', 'Joplette', 'Janice')\n('Jones', 'Douglas', 'Jones', 'David')\n('Joplette', 'Janice', 'Smith', 'Darren')\n('Mackenzie', 'Anna', 'Smith', 'Darren')\n('Owen', 'Charles', 'Smith', 'Darren')\n('Pinker', 'David', 'Farrell', 'Jemima')\n('Purview', 'Millicent', 'Smith', 'Tracy')\n('Rownam', 'Tim', None, None)\n('Rumney', 'Henrietta', 'Genting', 'Matthew')\n('Sarwin', 'Ramnaresh', 'Bader', 'Florence')\n('Smith', 'Darren', None, None)\n('Smith', 'Darren', None, None)\n('Smith', 'Jack', 'Smith', 'Darren')\n('Smith', 'Tracy', None, None)\n('Stibbons', 'Ponder', 'Tracy', 'Burton')\n('Tracy', 'Burton', None, None)\n('Tupperware', 'Hyacinth', None, None)\n('Worthington-Smyth', 'Henry', 'Smith', 'Tracy')\n"
     ]
    }
   ],
   "source": [
    "def Q11sql(conn):\n",
    "    \"\"\"\n",
    "    Query all rows in the tasks table\n",
    "    :param conn: the Connection object\n",
    "    :return:\n",
    "    \"\"\"\n",
    "    cur = conn.cursor()\n",
    "    \n",
    "    query1 = \"\"\"\n",
    "        SELECT M1.surname, M1.firstname, M2.surname as recommender_last, M2.firstname as recommender_first\n",
    "        FROM Members as M1\n",
    "        LEFT JOIN Members as M2\n",
    "        ON M1.recommendedby = M2.memid\n",
    "        ORDER BY M1.surname, M1.firstname\n",
    "        \"\"\"\n",
    "    cur.execute(query1)\n",
    " \n",
    "    rows = cur.fetchall()\n",
    " \n",
    "    for row in rows:\n",
    "        print(row)\n",
    "\n",
    "def Q11Conn():\n",
    "    database = \"sqlite_db_pythonsqlite.db\"\n",
    " \n",
    "    # create a database connection\n",
    "    conn = create_connection(database)\n",
    "    with conn: \n",
    "        print(\"Q11: Produce a report of members and who recommended them in alphabetic surname,firstname order \\n\")\n",
    "        Q11sql(conn)\n",
    "\n",
    "Q11Conn()"
   ]
  },
  {
   "cell_type": "code",
   "execution_count": 85,
   "metadata": {
    "tags": []
   },
   "outputs": [
    {
     "output_type": "stream",
     "name": "stdout",
     "text": [
      "2.6.0\nQ12: Find the facilities with their usage by member, but not guests \n\n(Last, First, Tennis Court 1, Tennis Court 2, Badminton Court, Table Tennis, Massage Room 1, Massage Room 2, Squash Court, Snooker Table, Pool Table)\n('Smith', 'Darren', 0, 19, 132, 28, 28, 0, 14, 12, 28)\n('Smith', 'Tracy', 30, 2, 32, 28, 6, 0, 6, 45, 61)\n('Rownam', 'Tim', 6, 6, 4, 69, 80, 2, 0, 0, 241)\n('Joplette', 'Janice', 19, 8, 0, 9, 12, 2, 14, 68, 27)\n('Butters', 'Gerald', 57, 3, 20, 1, 32, 1, 9, 34, 6)\n('Tracy', 'Burton', 31, 3, 2, 24, 31, 0, 35, 20, 30)\n('Dare', 'Nancy', 25, 11, 10, 5, 19, 5, 0, 23, 19)\n('Boothe', 'Tim', 4, 52, 12, 4, 36, 0, 12, 43, 25)\n('Stibbons', 'Ponder', 1, 31, 16, 3, 19, 0, 2, 20, 12)\n('Owen', 'Charles', 17, 41, 6, 24, 11, 2, 7, 22, 1)\n('Jones', 'David', 25, 30, 8, 11, 19, 4, 8, 2, 8)\n('Baker', 'Anne', 6, 35, 10, 1, 3, 2, 49, 0, 12)\n('Farrell', 'Jemima', 1, 1, 7, 12, 29, 0, 8, 21, 1)\n('Smith', 'Jack', 22, 1, 12, 5, 27, 1, 9, 5, 7)\n('Bader', 'Florence', 1, 8, 9, 42, 0, 2, 2, 33, 23)\n('Baker', 'Timothy', 14, 7, 7, 24, 24, 0, 5, 0, 85)\n('Pinker', 'David', 16, 0, 7, 17, 3, 0, 3, 16, 9)\n('Genting', 'Matthew', 1, 0, 0, 26, 25, 1, 0, 1, 18)\n('Mackenzie', 'Anna', 0, 0, 30, 16, 1, 0, 2, 7, 70)\n('Coplin', 'Joan', 7, 0, 0, 21, 1, 2, 1, 10, 11)\n('Sarwin', 'Ramnaresh', 5, 11, 7, 3, 8, 3, 2, 18, 13)\n('Jones', 'Douglas', 9, 0, 2, 0, 0, 0, 1, 0, 2)\n('Rumney', 'Henrietta', 0, 1, 0, 0, 0, 0, 2, 14, 3)\n('Farrell', 'David', 6, 1, 0, 0, 0, 0, 1, 1, 25)\n('Worthington-Smyth', 'Henry', 0, 0, 4, 3, 1, 0, 0, 0, 33)\n('Purview', 'Millicent', 0, 1, 2, 6, 0, 0, 1, 1, 5)\n('Tupperware', 'Hyacinth', 0, 0, 1, 0, 1, 0, 1, 5, 8)\n('Hunt', 'John', 4, 4, 2, 1, 3, 0, 1, 0, 0)\n('Crumpet', 'Erica', 1, 0, 2, 2, 2, 0, 0, 0, 0)\n"
     ]
    }
   ],
   "source": [
    "def Q12sql(conn):\n",
    "    \"\"\"\n",
    "    Query all rows in the tasks table\n",
    "    :param conn: the Connection object\n",
    "    :return:\n",
    "    \"\"\"\n",
    "    cur = conn.cursor()\n",
    "    \n",
    "    query1 = \"\"\"\n",
    "select M.surname, M.firstname,\n",
    "\tcount(case when facid = 0 then facid end) as TC1,\n",
    "\tcount(case when facid = 1 then facid end) as TC2,\n",
    "\tcount(case when facid = 2 then facid end) as BC,\n",
    "\tcount(case when facid = 3 then facid end) as TT,\n",
    "\tcount(case when facid = 4 then facid end) as MR1,\n",
    "\tcount(case when facid = 5 then facid end) as MR2,\n",
    "\tcount(case when facid = 6 then facid end) as SC,\n",
    "\tcount(case when facid = 7 then facid end) as ST,\n",
    "\tcount(case when facid = 8 then facid end) as PT\n",
    "from Bookings as B\n",
    "inner join Members as M\n",
    "on B.memid = M.memid\n",
    "where B.memid > 0\n",
    "group by B.memid\n",
    "        \"\"\"\n",
    "    cur.execute(query1)\n",
    " \n",
    "    rows = cur.fetchall()\n",
    " \n",
    "    for row in rows:\n",
    "        print(row)\n",
    "\n",
    "def Q12Conn():\n",
    "    database = \"sqlite_db_pythonsqlite.db\"\n",
    " \n",
    "    # create a database connection\n",
    "    conn = create_connection(database)\n",
    "    with conn: \n",
    "        print(\"Q12: Find the facilities with their usage by member, but not guests \\n\\n(Last, First, Tennis Court 1, Tennis Court 2, Badminton Court, Table Tennis, Massage Room 1, Massage Room 2, Squash Court, Snooker Table, Pool Table)\\n\")\n",
    "        Q12sql(conn)\n",
    "\n",
    "Q12Conn()"
   ]
  },
  {
   "cell_type": "code",
   "execution_count": 99,
   "metadata": {},
   "outputs": [
    {
     "output_type": "stream",
     "name": "stdout",
     "text": [
      "2.6.0\nQ13: Find the facilities usage by month, but not guests \n\n(Facility Name, July, Aug, Sept)\n\n('Tennis Court 1', 65, 111, 132)\n('Tennis Court 2', 41, 109, 126)\n('Badminton Court', 51, 132, 161)\n('Table Tennis', 48, 143, 194)\n('Massage Room 1', 77, 153, 191)\n('Massage Room 2', 4, 9, 14)\n('Squash Court', 23, 85, 87)\n('Snooker Table', 68, 154, 199)\n('Pool Table', 103, 272, 408)\n"
     ]
    }
   ],
   "source": [
    "def Q13sql(conn):\n",
    "    \"\"\"\n",
    "    Query all rows in the tasks table\n",
    "    :param conn: the Connection object\n",
    "    :return:\n",
    "    \"\"\"\n",
    "    cur = conn.cursor()\n",
    "    \n",
    "    query1 = \"\"\"\n",
    "select F.name,\n",
    "\tcount(case when strftime('%m',starttime) = '07' then 'July' end) as July,\n",
    "\tcount(case when strftime('%m',starttime) = '08' then 'August' end) as August,\n",
    "\tcount(case when strftime('%m',starttime) = '09' then 'September' end) as September\n",
    "from Bookings as B\n",
    "inner join Facilities as F\n",
    "on B.facid = F.facid\n",
    "where B.memid > 0\n",
    "group by B.facid\n",
    "\n",
    "        \"\"\"\n",
    "    cur.execute(query1)\n",
    " \n",
    "    rows = cur.fetchall()\n",
    " \n",
    "    for row in rows:\n",
    "        print(row)\n",
    "\n",
    "def Q13Conn():\n",
    "    database = \"sqlite_db_pythonsqlite.db\"\n",
    " \n",
    "    # create a database connection\n",
    "    conn = create_connection(database)\n",
    "    with conn: \n",
    "        print(\"Q13: Find the facilities usage by month, but not guests \\n\\n(Facility Name, July, Aug, Sept)\\n\")\n",
    "        Q13sql(conn)\n",
    "\n",
    "Q13Conn()"
   ]
  },
  {
   "cell_type": "code",
   "execution_count": null,
   "metadata": {},
   "outputs": [],
   "source": []
  }
 ]
}